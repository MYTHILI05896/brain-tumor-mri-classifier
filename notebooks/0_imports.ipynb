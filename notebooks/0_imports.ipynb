{
 "cells": [
  {
   "cell_type": "markdown",
   "source": [
    "# Deep Learning - Brain Tumor\n",
    "*Group Members*:\n",
    "\n",
    "|      | Student Name                  | Student ID |\n",
    "|---   |-------------------------------|------------|\n",
    "| 1    | Mahmoud Ahmed                 | 20221397   |\n",
    "| 2    | Alex Adrián Santander Morales | 20220658   |\n",
    "| 3    | Skander Chaabini              | 20221041   |\n",
    "| 4    | Karim Miladi                  | 20220720   |\n",
    "| 5    | Mohamed Ettaher Ben Slama     | 20221039   |"
   ],
   "metadata": {
    "collapsed": false
   }
  },
  {
   "cell_type": "markdown",
   "source": [
    "# Import required libraries\n",
    "\n",
    "Here are the libraries and packages that we will be using:"
   ],
   "metadata": {
    "collapsed": false
   }
  },
  {
   "cell_type": "code",
   "execution_count": 1,
   "outputs": [],
   "source": [
    "# System\n",
    "import os\n",
    "import sys\n",
    "import configparser\n",
    "import time\n",
    "from math import ceil\n",
    "\n",
    "# Reading and setup data\n",
    "import cv2\n",
    "import imutils\n",
    "from tqdm import tqdm\n",
    "\n",
    "# Loading datasets\n",
    "import numpy as np\n",
    "from matplotlib import pyplot as plt\n",
    "import seaborn as sns\n",
    "from sklearn.utils import shuffle\n",
    "from sklearn.model_selection import train_test_split\n",
    "\n",
    "# Modeling\n",
    "import tensorflow as tf\n",
    "from tensorflow.keras.preprocessing.image import ImageDataGenerator\n",
    "from tensorflow.keras.layers import Conv2D, Input, ZeroPadding2D, BatchNormalization, Activation, MaxPooling2D, Flatten, Dense\n",
    "from tensorflow.keras.models import Model, load_model\n",
    "from tensorflow.keras.callbacks import TensorBoard, ModelCheckpoint\n",
    "from tensorflow.keras.models import Sequential\n",
    "from tensorflow.keras.layers import Conv2D, MaxPooling2D, Flatten, Dense\n",
    "from tensorflow.keras import layers\n",
    "from keras.layers import GlobalAveragePooling2D\n",
    "from tensorflow.keras.applications.efficientnet import EfficientNetB1\n",
    "from keras.applications import VGG16\n",
    "from keras.models import Sequential\n",
    "from keras.layers import Conv2D, MaxPooling2D, Dense, Dropout, Flatten, Activation, BatchNormalization\n",
    "\n",
    "\n",
    "# Evaluation\n",
    "from sklearn.metrics import f1_score\n",
    "from sklearn.metrics import confusion_matrix as cm, classification_report as cr"
   ],
   "metadata": {
    "collapsed": false
   }
  },
  {
   "cell_type": "markdown",
   "source": [
    "Import and append our custom modules"
   ],
   "metadata": {
    "collapsed": false
   }
  },
  {
   "cell_type": "code",
   "execution_count": 2,
   "outputs": [],
   "source": [
    "%reload_ext autoreload\n",
    "%autoreload 2\n",
    "module_path = os.path.abspath(os.path.join('./utils'))\n",
    "if module_path not in sys.path:\n",
    "    sys.path.append(module_path)\n",
    "\n",
    "from utils.preprocess import *\n",
    "from utils.helpers import *"
   ],
   "metadata": {
    "collapsed": false
   }
  },
  {
   "cell_type": "markdown",
   "source": [
    "### Load configs\n",
    "\n",
    "Load the config file to dataset paths."
   ],
   "metadata": {
    "collapsed": false
   }
  },
  {
   "cell_type": "code",
   "execution_count": 3,
   "outputs": [],
   "source": [
    "# Load the config file\n",
    "config = configparser.ConfigParser()\n",
    "config.read('config.ini')\n",
    "\n",
    "# data\n",
    "dataset_url = config.get('data', 'dataset_url')\n",
    "downloads_path = config.get('data', 'downloads_path')\n",
    "dataset_path = config.get('data', 'dataset_path')\n",
    "original_dataset = config.get('data', 'original_dataset')\n",
    "processed_dataset = config.get('data', 'processed_dataset')\n",
    "augmented_dataset = config.get('data', 'augmented_dataset')\n",
    "train_dataset = config.get('data', 'training_dataset')\n",
    "test_dataset = config.get('data', 'testing_dataset')\n",
    "\n",
    "# training\n",
    "models_path = config.get('training', 'models_path')\n",
    "img_size = int(config.get('training', 'img_size'))\n",
    "batch_size = int(config.get('training', 'batch_size'))"
   ],
   "metadata": {
    "collapsed": false
   }
  }
 ],
 "metadata": {
  "kernelspec": {
   "display_name": "Python 3",
   "language": "python",
   "name": "python3"
  },
  "language_info": {
   "codemirror_mode": {
    "name": "ipython",
    "version": 2
   },
   "file_extension": ".py",
   "mimetype": "text/x-python",
   "name": "python",
   "nbconvert_exporter": "python",
   "pygments_lexer": "ipython2",
   "version": "2.7.6"
  }
 },
 "nbformat": 4,
 "nbformat_minor": 0
}
