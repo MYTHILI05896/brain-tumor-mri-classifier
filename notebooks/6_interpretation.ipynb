{
 "cells": [
  {
   "cell_type": "markdown",
   "source": [
    "# Deep Learning - Brain Tumor\n",
    "*Group Members*:\n",
    "\n",
    "|      | Student Name                  | Student ID |\n",
    "|---   |-------------------------------|------------|\n",
    "| 1    | Mahmoud Ahmed                 | 20221397   |\n",
    "| 2    | Alex Adrián Santander Morales | 20220658   |\n",
    "| 3    | Skander Chaabini              | 20221041   |\n",
    "| 4    | Karim Miladi                  | 20220720   |\n",
    "| 5    | Mohamed Ettaher Ben Slama     | 20221039   |"
   ],
   "metadata": {
    "collapsed": false
   }
  },
  {
   "cell_type": "markdown",
   "source": [
    "## Results Interpretation\n",
    "\n",
    "Let's experiment with the best model (the one with the best validation accuracy):\n",
    "\n",
    "**Concretely, our `EfficientNetB1` model with validation accuracy ~97% Yeaaah !!**"
   ],
   "metadata": {
    "collapsed": false
   }
  },
  {
   "cell_type": "markdown",
   "source": [
    "### Best model\n",
    "\n",
    "Let's for last time evaluate best model on Testing dataset"
   ],
   "metadata": {
    "collapsed": false
   }
  },
  {
   "cell_type": "code",
   "execution_count": 117,
   "outputs": [
    {
     "name": "stdout",
     "output_type": "stream",
     "text": [
      "54/54 [==============================] - 15s 274ms/step - loss: 0.1263 - accuracy: 0.9691\n",
      "41/41 [==============================] - 12s 297ms/step - loss: 0.0906 - accuracy: 0.9809\n"
     ]
    }
   ],
   "source": [
    "loss_val, acc_val = effnet_model.evaluate(x=X_val, y=y_val)\n",
    "loss_test, acc_test = effnet_model.evaluate(x=X_test, y=y_test)"
   ],
   "metadata": {
    "collapsed": false
   }
  },
  {
   "cell_type": "markdown",
   "source": [
    "### Best model Accuracy"
   ],
   "metadata": {
    "collapsed": false
   }
  },
  {
   "cell_type": "code",
   "execution_count": 118,
   "outputs": [
    {
     "name": "stdout",
     "output_type": "stream",
     "text": [
      "Validation Loss = 0.12626615166664124\n",
      "Validation Accuracy = 0.9690781831741333\n",
      "Test Loss = 0.09059450775384903\n",
      "Test Accuracy = 0.9809305667877197\n"
     ]
    }
   ],
   "source": [
    "print (f\"Validation Loss = {loss_val}\")\n",
    "print (f\"Validation Accuracy = {acc_val}\")\n",
    "\n",
    "print (f\"Test Loss = {loss_test}\")\n",
    "print (f\"Test Accuracy = {acc_test}\")"
   ],
   "metadata": {
    "collapsed": false
   }
  },
  {
   "cell_type": "markdown",
   "source": [
    "### Best model F1-Score"
   ],
   "metadata": {
    "collapsed": false
   }
  },
  {
   "cell_type": "markdown",
   "source": [
    "On validation dataset"
   ],
   "metadata": {
    "collapsed": false
   }
  },
  {
   "cell_type": "code",
   "execution_count": 105,
   "outputs": [
    {
     "name": "stdout",
     "output_type": "stream",
     "text": [
      "54/54 [==============================] - 14s 257ms/step\n",
      "F1 score: 0.9683734749590018\n"
     ]
    }
   ],
   "source": [
    "y_val_prob = np.argmax(effnet_model.predict(X_val), axis=1)\n",
    "\n",
    "f1_score_val = compute_f1_score(y_val, y_val_prob)\n",
    "print(f\"F1 score on Validation: {f1_score_val}\")"
   ],
   "metadata": {
    "collapsed": false
   }
  },
  {
   "cell_type": "markdown",
   "source": [
    "On testing dataset"
   ],
   "metadata": {
    "collapsed": false
   }
  },
  {
   "cell_type": "code",
   "execution_count": 106,
   "outputs": [
    {
     "name": "stdout",
     "output_type": "stream",
     "text": [
      "41/41 [==============================] - 12s 287ms/step\n",
      "F1 score on Validation: 0.9799833135561775\n"
     ]
    }
   ],
   "source": [
    "y_test_prob = np.argmax(effnet_model.predict(X_test), axis=1)\n",
    "\n",
    "f1_score_test = compute_f1_score(y_test, y_test_prob)\n",
    "print(f\"F1 score on Testing: {f1_score_test}\")"
   ],
   "metadata": {
    "collapsed": false
   }
  },
  {
   "cell_type": "markdown",
   "source": [
    "## Conclusion\n",
    "\n",
    "Now, the model detects brain tumor with:\n",
    "\n",
    "- `98.0%` accuracy on the test set.\n",
    "- `0.97` f1 score on the test set.\n",
    "\n",
    "These results are very good considering that the data is balanced.\n",
    "\n",
    "\n",
    "Performance Table:\n",
    "\n",
    "| Validation set | Test set |\n",
    "|----------------|----------|\n",
    "| Accuracy       | 96%      | 98% |\n",
    "| F1 score       | 0.96     | 0.97 |\n",
    "\n",
    "Hooray!"
   ],
   "metadata": {
    "collapsed": false
   }
  }
 ],
 "metadata": {
  "kernelspec": {
   "display_name": "Python 3",
   "language": "python",
   "name": "python3"
  },
  "language_info": {
   "codemirror_mode": {
    "name": "ipython",
    "version": 2
   },
   "file_extension": ".py",
   "mimetype": "text/x-python",
   "name": "python",
   "nbconvert_exporter": "python",
   "pygments_lexer": "ipython2",
   "version": "2.7.6"
  }
 },
 "nbformat": 4,
 "nbformat_minor": 0
}
